{
  "cells": [
    {
      "cell_type": "markdown",
      "metadata": {
        "id": "view-in-github",
        "colab_type": "text"
      },
      "source": [
        "<a href=\"https://colab.research.google.com/github/C00ldudeNoonan/Global_inflation_viz/blob/main/Euro_Inflation_Rates_since_2000.ipynb\" target=\"_parent\"><img src=\"https://colab.research.google.com/assets/colab-badge.svg\" alt=\"Open In Colab\"/></a>"
      ]
    },
    {
      "cell_type": "markdown",
      "metadata": {
        "id": "ImRSz7azJJnM"
      },
      "source": [
        "# Notes\n",
        "\n",
        "Inflation Data: https://www.worldbank.org/en/research/brief/inflation-database\n",
        "\n",
        "ShapeFiles: https://www.naturalearthdata.com/downloads/10m-cultural-vectors/10m-admin-0-boundary-lines/ß\n",
        "\n",
        "Data needs to be pivoted for Chart (do in excel)\n",
        "Map Country Codes\n",
        "Timelapse Plot, This time use gif maker within matplotlib"
      ]
    },
    {
      "cell_type": "code",
      "execution_count": null,
      "metadata": {
        "id": "7gLtKZaTI-R3"
      },
      "outputs": [],
      "source": [
        "!pip install geopandas"
      ]
    },
    {
      "cell_type": "code",
      "execution_count": 2,
      "metadata": {
        "id": "9YMpa_evJr1X"
      },
      "outputs": [],
      "source": [
        "from shapely import geometry\n",
        "from shapely.geometry import Point, Polygon\n",
        "import pandas as pd\n",
        "from datetime import datetime\n",
        "import geopandas as gpd\n",
        "from matplotlib import pyplot as plt\n",
        "import matplotlib.gridspec as gridspec\n",
        "from geopandas import GeoDataFrame\n",
        "import imageio\n",
        "import os\n",
        "import matplotlib\n",
        "# test plot\n",
        "import matplotlib.colors as colors\n",
        "import numpy as np\n",
        "from matplotlib.colors import LinearSegmentedColormap\n",
        "\n",
        "\n",
        "# shapefiles import\n",
        "\n",
        "CountryBoundaries = '/vsicurl/https://github.com/C00ldudeNoonan/Global_inflation_viz/raw/main/ne_50m_admin_0_countries.shp' \n",
        "CountryBoundaries = gpd.read_file(CountryBoundaries)\n",
        "CountryBoundaries.crs = \"EPSG:4326\"\n",
        "CountryBoundaries = CountryBoundaries.to_crs(\"EPSG:3035\") \n",
        "\n",
        "mapCountryList = [\"Germany\", \"United Kingdom\", \"France\", \"Italy\",\n",
        "                  \"Spain\", \"Ukraine\", \"Poland\", \"Romania\", \"Netherlands\",\n",
        "                  \"Belgium\", \"Czechia\", \"Greece\", \"Portugal\", \"Sweden\",\n",
        "                  \"Hungary\", \"Belarus\", \"Austria\", \"Serbia\", \"Switzerland\",\n",
        "                  \"Bulgaria\", \"Denmark\", \"Finland\", \"Slovakia\", \"Norway\",\n",
        "                  \"Ireland\", \"Croatia\", \"Moldova\", \"Bosnia and Herzegovina\",\n",
        "                  \"Albania\", \"Lithuania\", \"North Macedonia\", \"Slovenia\",\n",
        "                  \"Latvia\", \"Estonia\", \"Montenegro\", \"Luxembourg\", \"Malta\", \n",
        "                  \"Iceland\", \"Turkey\", \"Egypt\", \"Jordan\", \"Syria\", \"Israel\",\n",
        "                  \"Cyprus\", \"Algeria\", \"Morocco\", \"Libya\", \"Tunisia\", \"Russia\"\n",
        "                  ,\"Georgia\", \"Lebanon\", 'North Cyprus', \"Republic of Serbia\",\n",
        "                  \"Kosovo\"\n",
        "                  ]\n",
        "\n",
        "euro_df = CountryBoundaries[CountryBoundaries['SOVEREIGNT'].isin(mapCountryList)]\n",
        "fig  = plt.figure(constrained_layout=False, figsize=(60, 20))\n",
        "ax = fig.add_subplot()\n",
        "aoi_bounds = euro_df[euro_df['SOVEREIGNT']=='Germany'].geometry.total_bounds\n",
        "print(aoi_bounds)\n",
        "plot_bounds = [aoi_bounds[0]-1800000, aoi_bounds[1]+4200000, aoi_bounds[2]-4000000, aoi_bounds[3]+2000000 ]\n",
        "ax.set_xlim([plot_bounds[0], plot_bounds[1]])\n",
        "ax.set_ylim([plot_bounds[2], plot_bounds[3]])\n",
        "\n",
        "euro_df.boundary.plot(ax=ax, color='black', linewidth=1 )\n",
        "plt.show()"
      ]
    },
    {
      "cell_type": "code",
      "execution_count": 4,
      "metadata": {
        "colab": {
          "base_uri": "https://localhost:8080/",
          "height": 495
        },
        "id": "46Sy9pUgKE0m",
        "outputId": "397e9837-b580-4286-ad24-a356d20f1884"
      },
      "outputs": [
        {
          "output_type": "stream",
          "name": "stderr",
          "text": [
            "/usr/local/lib/python3.7/dist-packages/ipykernel_launcher.py:20: SettingWithCopyWarning: \n",
            "A value is trying to be set on a copy of a slice from a DataFrame.\n",
            "Try using .loc[row_indexer,col_indexer] = value instead\n",
            "\n",
            "See the caveats in the documentation: https://pandas.pydata.org/pandas-docs/stable/user_guide/indexing.html#returning-a-view-versus-a-copy\n"
          ]
        },
        {
          "output_type": "stream",
          "name": "stdout",
          "text": [
            "['Aruba', 'Afghanistan', 'Angola', 'Albania', 'United Arab Emirates', 'Argentina', 'Armenia', 'Antigua and Barbuda', 'Australia', 'Austria', 'Azerbaijan', 'Burundi', 'Belgium', 'Benin', 'Burkina Faso', 'Bangladesh', 'Bulgaria', 'Bahrain', 'Bahamas', 'Bosnia and Herzegovina', 'Belarus', 'Belize', 'Bolivia', 'Brazil', 'Barbados', 'Brunei Darussalam', 'Bhutan', 'Botswana', 'Central African Republic', 'Canada', 'Switzerland', 'Chile', 'China', \"CÃ´te d'Ivoire\", 'Cameroon', 'Congo, Dem. Rep.', 'Congo, Rep.', 'Colombia', 'Comoros', 'Cabo Verde', 'Costa Rica', 'Cayman Islands', 'Cyprus', 'Czech Republic', 'Germany', 'Djibouti', 'Dominica', 'Denmark', 'Dominican Republic', 'Algeria', 'Ecuador', 'Egypt, Arab Rep.', 'Spain', 'Estonia', 'Ethiopia', 'Finland', 'Fiji', 'France', 'Micronesia, Fed. Sts.', 'Gabon', 'United Kingdom', 'Georgia', 'Ghana', 'Guinea', 'Gambia, The', 'Guinea-Bissau', 'Equatorial Guinea', 'Greece', 'Grenada', 'Guatemala', 'Guyana', 'Hong Kong SAR, China', 'Honduras', 'Croatia', 'Haiti', 'Hungary', 'Indonesia', 'India', 'Ireland', 'Iran, Islamic Rep.', 'Iraq', 'Iceland', 'Israel', 'Italy', 'Jamaica', 'Jordan', 'Japan', 'Kazakhstan', 'Kenya', 'Kyrgyz Republic', 'Cambodia', 'Kiribati', 'St. Kitts and Nevis', 'Korea, Rep.', 'Kuwait', 'Lao PDR', 'Lebanon', 'Liberia', 'Libya', 'St. Lucia', 'Sri Lanka', 'Lesotho', 'Lithuania', 'Luxembourg', 'Latvia', 'Macao SAR, China', 'Morocco', 'Moldova, Rep.', 'Madagascar', 'Maldives', 'Mexico', 'North Macedonia', 'Mali', 'Malta', 'Myanmar', 'Montenegro', 'Mongolia', 'Mozambique', 'Mauritania', 'Mauritius', 'Malawi', 'Malaysia', 'Namibia', 'Niger', 'Nigeria', 'Nicaragua', 'Netherlands', 'Netherlands Antilles', 'Norway', 'Nepal', 'New Zealand', 'Oman', 'Pakistan', 'Panama', 'Peru', 'Philippines', 'Palau', 'Papua New Guinea', 'Poland', 'Portugal', 'Paraguay', 'Qatar', 'Romania', 'Russian Federation', 'Rwanda', 'Saudi Arabia', 'Sudan', 'Senegal', 'Singapore', 'Solomon Islands', 'Sierra Leone', 'El Salvador', 'San Marino', 'Serbia', 'South Sudan', 'São Tomé and Principe', 'Suriname', 'Slovakia', 'Slovenia', 'Sweden', 'Eswatini', 'Seychelles', 'Syrian Arab Republic', 'Chad', 'Togo', 'Thailand', 'Tajikistan', 'Timor-Leste', 'Tonga', 'Trinidad and Tobago', 'Tunisia', 'Turkey', 'Tanzania, United Rep.', 'Uganda', 'Ukraine', 'Uruguay', 'United States', 'St. Vincent and the Grenadines', 'Venezuela, RB', 'Vietnam', 'Vanuatu', 'Samoa', 'Kosovo', 'Yemen, Rep.', 'South Africa', 'Zambia', 'Zimbabwe']\n",
            "                  Country  Quarter  HeadlineInflation\n",
            "0                 Albania    20002          -0.004416\n",
            "1                 Austria    20002           0.006605\n",
            "2                 Belgium    20002           0.009041\n",
            "3                Bulgaria    20002          -0.006936\n",
            "4  Bosnia and Herzegovina    20002                NaN\n"
          ]
        },
        {
          "output_type": "display_data",
          "data": {
            "text/plain": [
              "<Figure size 432x288 with 1 Axes>"
            ],
            "image/png": "[encoded data removed]"
          },
          "metadata": {
            "needs_background": "light"
          }
        }
      ],
      "source": [
        "# csv transformation\n",
        "# subset Euro Countries (Turkey too)\n",
        "\n",
        "HeadlineInfaltionQuarterly = pd.read_csv(\"https://raw.githubusercontent.com/C00ldudeNoonan/Global_inflation_viz/main/Headline_inflation_quarterly.csv\")\n",
        "\n",
        "HeadlineInfaltionSubset = HeadlineInfaltionQuarterly[HeadlineInfaltionQuarterly['Country'].isin(mapCountryList)]\n",
        "numCols = [int(col) for col in HeadlineInfaltionSubset if col.startswith('2')]\n",
        "\n",
        "for col in numCols:\n",
        "  index = numCols.index(col)\n",
        "  if col== numCols[-1]:\n",
        "    pass\n",
        "  else:\n",
        "    HeadlineInfaltionSubset[str(numCols[index+1])+\"_pct_change\"] = (HeadlineInfaltionSubset[str(numCols[index+1])] - HeadlineInfaltionSubset[str(numCols[index])])/HeadlineInfaltionSubset[str(numCols[index])]\n",
        "\n",
        "# getting all columns for wide to long pivot\n",
        "filter_col = [col for col in HeadlineInfaltionSubset if col.endswith('_pct_change') or col =='Country']\n",
        "\n",
        "HeadlineInfaltionSubset = HeadlineInfaltionSubset[filter_col]\n",
        "HeadlineInfaltionPivot = pd.melt(HeadlineInfaltionSubset\n",
        "                                 ,id_vars=[\"Country\"]\n",
        "                                 ,value_vars=[col for col in HeadlineInfaltionSubset if col.startswith('2')]\n",
        "                                 ,var_name='Quarter'\n",
        "                                 ,value_name='HeadlineInflation')\n",
        "HeadlineInfaltionPivot[\"Quarter\"] = HeadlineInfaltionPivot[\"Quarter\"].apply(lambda x: x.replace(\"_pct_change\", \"\"))\n",
        "HeadlineInfaltionPivot = HeadlineInfaltionPivot.astype({\"Quarter\": int, \"HeadlineInflation\": float})\n",
        "\n",
        "print(list(HeadlineInfaltionQuarterly['Country'].unique()))\n",
        "# replace country value 'Czech Republic':'Czechia', 'Russian Federation': 'Russia', 'Egypt, Arab Rep.':'Egypt'\n",
        "HeadlineInfaltionPivot[\"Country\"] = HeadlineInfaltionPivot[\"Country\"].apply(lambda x: x.replace(\"Czech Republic\", \"Czechia\"))\n",
        "HeadlineInfaltionPivot[\"Country\"] = HeadlineInfaltionPivot[\"Country\"].apply(lambda x: x.replace(\"Russian Federation\", \"Russia\"))\n",
        "HeadlineInfaltionPivot[\"Country\"] = HeadlineInfaltionPivot[\"Country\"].apply(lambda x: x.replace(\"Egypt, Arab Rep.\", \"Egypt\"))\n",
        "\n",
        "print(HeadlineInfaltionPivot.head())\n",
        "# % change calculation between columns loop on filtercolumn list\n",
        "plt.hist(HeadlineInfaltionPivot['HeadlineInflation'], bins=20)\n",
        "plt.show()\n"
      ]
    },
    {
      "cell_type": "code",
      "execution_count": 7,
      "metadata": {
        "id": "AZs0lsmt2KAl",
        "colab": {
          "base_uri": "https://localhost:8080/",
          "height": 35
        },
        "outputId": "789db940-43fc-4806-e771-9751d5ea587c"
      },
      "outputs": [
        {
          "output_type": "execute_result",
          "data": {
            "text/plain": [
              "'20081.png'"
            ],
            "application/vnd.google.colaboratory.intrinsic+json": {
              "type": "string"
            }
          },
          "metadata": {},
          "execution_count": 7
        }
      ],
      "source": [
        "\n",
        "\n",
        "\n",
        "def plot_frame(period):\n",
        "  \n",
        "  # subsetting and merging data frames\n",
        "  plotdf = HeadlineInfaltionPivot[HeadlineInfaltionPivot['Quarter']==period]\n",
        "  plotdf = euro_df.merge(plotdf, how='left', right_on='Country',left_on='SOVEREIGNT')\n",
        "  plotdf = GeoDataFrame(plotdf)\n",
        "\n",
        "  fig  = plt.figure(constrained_layout=False, figsize=(30, 15))\n",
        "  ax = plt.axes()\n",
        "\n",
        "  # COLOR SCALES\n",
        "  cmap = matplotlib.colors.ListedColormap(['#577590', '#4d908e', '#43aa8b'\n",
        "                                            , '#90be6d', '#f9c74f', '#f9844a'\n",
        "                                            ,'#f8961e','#f3722c'])\n",
        "  bounds = np.array([-0.4,-0.04, -0.02, 0, 0.02, 0.04, 0.1, 0.4])\n",
        "  norm = colors.BoundaryNorm(boundaries=bounds, ncolors=7)\n",
        "\n",
        "  # plot bounds centered on Europe\n",
        "  aoi_bounds = euro_df[euro_df['SOVEREIGNT']=='Germany'].geometry.total_bounds\n",
        "  plot_bounds = [aoi_bounds[0]-1800000, aoi_bounds[1]+4200000, aoi_bounds[2]-4000000, aoi_bounds[3]+2000000 ]\n",
        "  \n",
        "  ax.set_xlim([plot_bounds[0], plot_bounds[1]])\n",
        "  ax.set_ylim([plot_bounds[2], plot_bounds[3]])\n",
        "\n",
        "  ax.set_title('Inflation By Country : ' + str(period)[:-1] + \"-Q\"+ str(period)[-1], fontsize=26, weight='bold', color=\"Black\")\n",
        "  plotdf.plot(ax=ax\n",
        "              , column='HeadlineInflation'\n",
        "              , cmap=cmap\n",
        "              , edgecolor=\"black\"\n",
        "              , norm=norm\n",
        "              , legend=True\n",
        "              ,missing_kwds={\"color\": \"lightgrey\",\n",
        "                             \"edgecolor\": \"red\",\n",
        "                             \"hatch\": \"///\",\n",
        "                             \"label\": \"Missing values\",\n",
        "              },)\n",
        "  \n",
        "  #save image\n",
        "  filename = str(period) + \".png\"\n",
        "  ax.axis('off')\n",
        "  plt.savefig(filename, bbox_inches='tight', facecolor='#8ecae6')\n",
        "  plt.close()\n",
        "  #plt.show()\n",
        "  return filename\n",
        "\n"
      ]
    },
    {
      "cell_type": "code",
      "execution_count": 6,
      "metadata": {
        "colab": {
          "base_uri": "https://localhost:8080/"
        },
        "id": "SlEVoz45GiLY",
        "outputId": "5df5e567-fdf2-4f22-9b8b-2ef49673863f"
      },
      "outputs": [
        {
          "output_type": "stream",
          "name": "stdout",
          "text": [
            "CPU times: user 1min 21s, sys: 9.5 s, total: 1min 31s\n",
            "Wall time: 1min 23s\n"
          ]
        }
      ],
      "source": [
        "%%time\n",
        "filenames = []\n",
        "\n",
        "# loop through and saving gifs for each period\n",
        "for period in list(HeadlineInfaltionPivot[\"Quarter\"].unique()):\n",
        "  filenames.append(plot_frame(period))\n",
        "\n",
        "# build gif\n",
        "with imageio.get_writer('Inflation_timelapse.gif', mode='I') as writer:\n",
        "    for filename in filenames:\n",
        "        image = imageio.imread(filename)\n",
        "        imageframe2 = image\n",
        "        writer.append_data(image)\n",
        "        writer.append_data(imageframe2)\n",
        "\n",
        "# Remove files\n",
        "for filename in set(filenames):\n",
        "    os.remove(filename)"
      ]
    }
  ],
  "metadata": {
    "colab": {
      "provenance": [],
      "include_colab_link": true
    },
    "kernelspec": {
      "display_name": "Python 3",
      "name": "python3"
    },
    "language_info": {
      "name": "python"
    }
  },
  "nbformat": 4,
  "nbformat_minor": 0
}